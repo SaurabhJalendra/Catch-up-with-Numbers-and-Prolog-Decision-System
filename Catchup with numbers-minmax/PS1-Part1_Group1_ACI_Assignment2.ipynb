{
 "cells": [
  {
   "cell_type": "markdown",
   "id": "349b329b",
   "metadata": {},
   "source": [
    "## Artificial and Computational Intelligence Assignment 2"
   ]
  },
  {
   "cell_type": "markdown",
   "id": "ef73df95",
   "metadata": {},
   "source": [
    "## Gaming with Min-Max Algorithm - Solution template"
   ]
  },
  {
   "cell_type": "markdown",
   "id": "135a6db2",
   "metadata": {},
   "source": [
    "### Submitted by Group 1 with 100% contribution from all participants:\n",
    "\n",
    "1. Name: Reddy Balaji .C (BITS ID: 2023AC05862); Email: 2023ac05862@wilp.bits-pilani.ac.in\n",
    "2. Name: Saurabh Jalendra (BITS ID: 2023AC05912); Email: 2023ac05912@wilp.bits-pilani.ac.in\n",
    "3. Name: Tushar Shandilya (BITS ID: 2023AC05573); Email: 2023ac05573@wilp.bits-pilani.ac.in\n",
    "4. Name:  Bandana Kumari (BITS ID: 2023AC05879); Email: 2023ac05879@wilp.bits-pilani.ac.in\n",
    "5. Name: Monica Malik (BITS ID: 2023AC05875); Email: 2023ac05875@wilp.bits-pilani.ac.in"
   ]
  },
  {
   "cell_type": "markdown",
   "id": "d6f97bd9",
   "metadata": {},
   "source": [
    "# Things to follow\n",
    "\n",
    "1. Use appropriate data structures to represent the graph using python libraries\n",
    "2. Provide proper documentation\n",
    "3. Create neat solution without error during game playing"
   ]
  },
  {
   "cell_type": "markdown",
   "id": "9c8fc7c1",
   "metadata": {},
   "source": [
    "### Coding begins here"
   ]
  },
  {
   "cell_type": "markdown",
   "id": "ae16f9ad",
   "metadata": {},
   "source": [
    "### PEAS - Data structures and fringes that define the Agent environment goes here"
   ]
  },
  {
   "cell_type": "code",
   "execution_count": 37,
   "id": "1e1e1546",
   "metadata": {},
   "outputs": [],
   "source": [
    "class CatchUpGame:\n",
    "    def __init__(self, n):\n",
    "        self.n = n\n",
    "        self.available_numbers = list(range(1, n + 1))\n",
    "        self.P1_sum = 0\n",
    "        self.P2_sum = 0\n",
    "        self.turn = \"P1\"\n",
    "\n",
    "    # Check if all numbers have been selected\n",
    "    def game_over(self):\n",
    "        return len(self.available_numbers) == 0\n",
    "\n",
    "    # Display the current board and scores\n",
    "    def display_game_state(self):\n",
    "        print(f\"Available Numbers: {self.available_numbers}\")\n",
    "        print(f\"P1 Sum: {self.P1_sum} | P2 Sum: {self.P2_sum}\")\n",
    "\n",
    "    # Perform a move for a player\n",
    "    def make_move(self, player, choices):\n",
    "        for choice in choices:\n",
    "            if choice in self.available_numbers:\n",
    "                self.available_numbers.remove(choice)\n",
    "                if player == \"P1\":\n",
    "                    self.P1_sum += choice\n",
    "                else:\n",
    "                    self.P2_sum += choice\n",
    "\n",
    "    # Calculate if a player can continue to pick numbers\n",
    "    def can_continue_choosing(self, player):\n",
    "        if player == \"P1\":\n",
    "            return self.P1_sum <= self.P2_sum\n",
    "        else:\n",
    "            return self.P2_sum <= self.P1_sum\n"
   ]
  },
  {
   "cell_type": "markdown",
   "id": "979b8c3b",
   "metadata": {},
   "source": [
    "### Implementation of the Min-Max algorithm"
   ]
  },
  {
   "cell_type": "code",
   "execution_count": 38,
   "id": "3e2fd5c8",
   "metadata": {},
   "outputs": [],
   "source": [
    "# Min-Max algorithm modified for multiple picks in one turn\n",
    "def minimax(game, depth, is_maximizing, sum_current_player, sum_opponent):\n",
    "    # Base case: game over\n",
    "    if game.game_over():\n",
    "        return game.P1_sum - game.P2_sum  # Evaluation of the game state\n",
    "\n",
    "    best_score = float('-inf') if is_maximizing else float('inf')\n",
    "    best_choices = []\n",
    "\n",
    "    for num in game.available_numbers:\n",
    "        new_game = CatchUpGame(game.n)\n",
    "        new_game.available_numbers = game.available_numbers.copy()\n",
    "        new_game.P1_sum = game.P1_sum\n",
    "        new_game.P2_sum = game.P2_sum\n",
    "\n",
    "        player = \"P1\" if is_maximizing else \"P2\"\n",
    "        current_sum = sum_current_player\n",
    "        choices = []\n",
    "\n",
    "        while new_game.can_continue_choosing(player):\n",
    "            new_game.make_move(player, [num])\n",
    "            choices.append(num)\n",
    "            current_sum += num\n",
    "\n",
    "            # Recursively calculate the score for the next state\n",
    "            score = minimax(new_game, depth + 1, not is_maximizing, sum_opponent, current_sum)\n",
    "            if is_maximizing:\n",
    "                if score > best_score:\n",
    "                    best_score = score\n",
    "                    best_choices = choices.copy()\n",
    "            else:\n",
    "                if score < best_score:\n",
    "                    best_score = score\n",
    "                    best_choices = choices.copy()\n",
    "\n",
    "            if current_sum > sum_opponent:\n",
    "                break\n",
    "\n",
    "    return best_score\n"
   ]
  },
  {
   "cell_type": "markdown",
   "id": "71d82f98",
   "metadata": {},
   "source": [
    "### Implementation of the alpha-beta pruning  "
   ]
  },
  {
   "cell_type": "code",
   "execution_count": 39,
   "id": "7f807ef3",
   "metadata": {},
   "outputs": [],
   "source": [
    "# Alpha-Beta Pruning algorithm\n",
    "def alpha_beta(game, depth, alpha, beta, is_maximizing, sum_current_player, sum_opponent):\n",
    "    if game.game_over():\n",
    "        return game.P1_sum - game.P2_sum  # Evaluation of the game state\n",
    "\n",
    "    best_score = float('-inf') if is_maximizing else float('inf')\n",
    "    \n",
    "    for num in game.available_numbers:\n",
    "        new_game = CatchUpGame(game.n)\n",
    "        new_game.available_numbers = game.available_numbers.copy()\n",
    "        new_game.P1_sum = game.P1_sum\n",
    "        new_game.P2_sum = game.P2_sum\n",
    "\n",
    "        player = \"P1\" if is_maximizing else \"P2\"\n",
    "        current_sum = sum_current_player\n",
    "        choices = []\n",
    "\n",
    "        while new_game.can_continue_choosing(player):\n",
    "            new_game.make_move(player, [num])\n",
    "            choices.append(num)\n",
    "            current_sum += num\n",
    "\n",
    "            # Recursively calculate the score for the next state using alpha-beta pruning\n",
    "            score = alpha_beta(new_game, depth + 1, alpha, beta, not is_maximizing, sum_opponent, current_sum)\n",
    "\n",
    "            if is_maximizing:\n",
    "                best_score = max(best_score, score)\n",
    "                alpha = max(alpha, best_score)\n",
    "            else:\n",
    "                best_score = min(best_score, score)\n",
    "                beta = min(beta, best_score)\n",
    "\n",
    "            if beta <= alpha:\n",
    "                break\n",
    "\n",
    "            if current_sum > sum_opponent:\n",
    "                break\n",
    "\n",
    "    return best_score\n"
   ]
  },
  {
   "cell_type": "markdown",
   "id": "c158f4a2",
   "metadata": {},
   "source": [
    "### Choice and implementation of the Static Evaluation Function."
   ]
  },
  {
   "cell_type": "code",
   "execution_count": 40,
   "id": "ad3cab97",
   "metadata": {},
   "outputs": [],
   "source": [
    "# Static evaluation function simply returns the difference between P1 and P2 sums\n",
    "def evaluate_game_state(game):\n",
    "    return game.P1_sum - game.P2_sum\n"
   ]
  },
  {
   "cell_type": "code",
   "execution_count": 41,
   "id": "3a68e508",
   "metadata": {},
   "outputs": [],
   "source": [
    "# Get the best move for the computer (P1) using Min-Max or Alpha-Beta\n",
    "def get_best_move(game, is_maximizing, use_alpha_beta=False):\n",
    "    best_score = float('-inf') if is_maximizing else float('inf')\n",
    "    best_choices = []\n",
    "\n",
    "    sum_current_player = game.P1_sum if is_maximizing else game.P2_sum\n",
    "    sum_opponent = game.P2_sum if is_maximizing else game.P1_sum\n",
    "\n",
    "    for num in game.available_numbers:\n",
    "        new_game = CatchUpGame(game.n)\n",
    "        new_game.available_numbers = game.available_numbers.copy()\n",
    "        new_game.P1_sum = game.P1_sum\n",
    "        new_game.P2_sum = game.P2_sum\n",
    "\n",
    "        player = \"P1\" if is_maximizing else \"P2\"\n",
    "        choices = []\n",
    "        current_sum = sum_current_player\n",
    "\n",
    "        while new_game.can_continue_choosing(player):\n",
    "            new_game.make_move(player, [num])\n",
    "            choices.append(num)\n",
    "            current_sum += num\n",
    "\n",
    "            # Evaluate the move using Min-Max or Alpha-Beta pruning\n",
    "            if use_alpha_beta:\n",
    "                score = alpha_beta(new_game, 0, float('-inf'), float('inf'), not is_maximizing, sum_opponent, current_sum)\n",
    "            else:\n",
    "                score = minimax(new_game, 0, not is_maximizing, sum_opponent, current_sum)\n",
    "\n",
    "            if is_maximizing:\n",
    "                if score > best_score:\n",
    "                    best_score = score\n",
    "                    best_choices = choices.copy()\n",
    "            else:\n",
    "                if score < best_score:\n",
    "                    best_score = score\n",
    "                    best_choices = choices.copy()\n",
    "\n",
    "            if current_sum > sum_opponent:\n",
    "                break\n",
    "\n",
    "    return best_choices\n",
    "\n",
    "# Interactive game loop\n",
    "def play_game(game, use_alpha_beta=False):\n",
    "    while not game.game_over():\n",
    "        game.display_game_state()\n",
    "\n",
    "        if game.turn == \"P1\":\n",
    "            # P1 can pick numbers until P1_sum >= P2_sum\n",
    "            best_moves = []\n",
    "            while game.P1_sum <= game.P2_sum and not game.game_over():\n",
    "                # Get the best move for P1 (computer) using Min-Max or Alpha-Beta\n",
    "                best_move = get_best_move(game, True, use_alpha_beta)\n",
    "                best_moves.extend(best_move)\n",
    "                print(f\"P1 (Computer) chooses {best_move}\")\n",
    "                game.make_move(\"P1\", best_move)\n",
    "\n",
    "            game.turn = \"P2\"\n",
    "        else:\n",
    "            # Get user input for P2 (human player) until P2_sum >= P1_sum\n",
    "            print(\"It's your turn, P2!\")\n",
    "            sum_p1 = game.P1_sum\n",
    "            user_choices = []\n",
    "            while game.P2_sum <= sum_p1 and not game.game_over():\n",
    "                try:\n",
    "                    choice = int(input(f\"Choose a number from {game.available_numbers}: \"))\n",
    "                    if choice in game.available_numbers:\n",
    "                        user_choices.append(choice)\n",
    "                        game.make_move(\"P2\", [choice])\n",
    "                    else:\n",
    "                        print(\"Invalid choice. Please choose a valid number.\")\n",
    "                except ValueError:\n",
    "                    print(\"Please enter a valid number.\")\n",
    "            game.turn = \"P1\"\n",
    "\n",
    "    # Game over, declare the winner\n",
    "    game.display_game_state()\n",
    "    if game.P1_sum > game.P2_sum:\n",
    "        print(\"P1 (Computer) wins!\")\n",
    "    elif game.P2_sum > game.P1_sum:\n",
    "        print(\"P2 (You) win!\")\n",
    "    else:\n",
    "        print(\"It's a tie!\")\n"
   ]
  },
  {
   "cell_type": "code",
   "execution_count": 42,
   "id": "89d2a167-ed3a-4b5c-9810-c102c8028524",
   "metadata": {},
   "outputs": [
    {
     "name": "stdin",
     "output_type": "stream",
     "text": [
      "Enter the highest number (n) to play with:  10\n",
      "Do you want to use Alpha-Beta pruning? (yes/no):  no\n"
     ]
    },
    {
     "name": "stdout",
     "output_type": "stream",
     "text": [
      "Available Numbers: [1, 2, 3, 4, 5, 6, 7, 8, 9, 10]\n",
      "P1 Sum: 0 | P2 Sum: 0\n",
      "P1 (Computer) chooses [1]\n",
      "Available Numbers: [2, 3, 4, 5, 6, 7, 8, 9, 10]\n",
      "P1 Sum: 1 | P2 Sum: 0\n",
      "It's your turn, P2!\n"
     ]
    },
    {
     "name": "stdin",
     "output_type": "stream",
     "text": [
      "Choose a number from [2, 3, 4, 5, 6, 7, 8, 9, 10]:  6\n"
     ]
    },
    {
     "name": "stdout",
     "output_type": "stream",
     "text": [
      "Available Numbers: [2, 3, 4, 5, 7, 8, 9, 10]\n",
      "P1 Sum: 1 | P2 Sum: 6\n",
      "P1 (Computer) chooses [2]\n",
      "P1 (Computer) chooses [3]\n",
      "P1 (Computer) chooses [4]\n",
      "Available Numbers: [5, 7, 8, 9, 10]\n",
      "P1 Sum: 10 | P2 Sum: 6\n",
      "It's your turn, P2!\n"
     ]
    },
    {
     "name": "stdin",
     "output_type": "stream",
     "text": [
      "Choose a number from [5, 7, 8, 9, 10]:  5\n"
     ]
    },
    {
     "name": "stdout",
     "output_type": "stream",
     "text": [
      "Available Numbers: [7, 8, 9, 10]\n",
      "P1 Sum: 10 | P2 Sum: 11\n",
      "P1 (Computer) chooses [8]\n",
      "Available Numbers: [7, 9, 10]\n",
      "P1 Sum: 18 | P2 Sum: 11\n",
      "It's your turn, P2!\n"
     ]
    },
    {
     "name": "stdin",
     "output_type": "stream",
     "text": [
      "Choose a number from [7, 9, 10]:  7\n",
      "Choose a number from [9, 10]:  10\n"
     ]
    },
    {
     "name": "stdout",
     "output_type": "stream",
     "text": [
      "Available Numbers: [9]\n",
      "P1 Sum: 18 | P2 Sum: 28\n",
      "P1 (Computer) chooses [9]\n",
      "Available Numbers: []\n",
      "P1 Sum: 27 | P2 Sum: 28\n",
      "P2 (You) win!\n"
     ]
    }
   ],
   "source": [
    "# Start the game with user input for n and option to use Alpha-Beta pruning\n",
    "n = int(input(\"Enter the highest number (n) to play with: \"))\n",
    "use_alpha_beta = input(\"Do you want to use Alpha-Beta pruning? (yes/no): \").lower() == 'yes'\n",
    "game = CatchUpGame(n)\n",
    "play_game(game, use_alpha_beta)\n"
   ]
  },
  {
   "cell_type": "code",
   "execution_count": null,
   "id": "279dec4b-914c-4b87-b140-9764873c5483",
   "metadata": {},
   "outputs": [],
   "source": []
  }
 ],
 "metadata": {
  "kernelspec": {
   "display_name": "Python 3 (ipykernel)",
   "language": "python",
   "name": "python3"
  },
  "language_info": {
   "codemirror_mode": {
    "name": "ipython",
    "version": 3
   },
   "file_extension": ".py",
   "mimetype": "text/x-python",
   "name": "python",
   "nbconvert_exporter": "python",
   "pygments_lexer": "ipython3",
   "version": "3.11.7"
  }
 },
 "nbformat": 4,
 "nbformat_minor": 5
}
